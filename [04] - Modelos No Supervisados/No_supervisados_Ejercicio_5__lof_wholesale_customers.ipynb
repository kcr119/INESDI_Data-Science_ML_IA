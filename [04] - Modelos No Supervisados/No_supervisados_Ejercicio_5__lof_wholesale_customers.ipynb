{
  "cells": [
    {
      "cell_type": "markdown",
      "metadata": {
        "id": "view-in-github",
        "colab_type": "text"
      },
      "source": [
        "<a href=\"https://colab.research.google.com/github/dtoralg/INESDI_Data-Science_ML_IA/blob/main/%5B04%5D%20-%20Modelos%20No%20Supervisados/No_supervisados_Ejercicio_5__lof_wholesale_customers.ipynb\" target=\"_parent\"><img src=\"https://colab.research.google.com/assets/colab-badge.svg\" alt=\"Open In Colab\"/></a>"
      ]
    },
    {
      "cell_type": "markdown",
      "id": "3bbb32f2",
      "metadata": {
        "id": "3bbb32f2"
      },
      "source": [
        "# No supervisados - Ejercicio 5: lof_wholesale_customers.ipynb\n",
        "\n",
        "Este notebook es **We do**. Lo trabajamos juntos en clase: te doy las partes claves resueltas y te dejo celdas con instrucciones claras (`# TODO`) que debes completar durante la sesión. El objetivo es entender LOF (Local Outlier Factor), experimentar con `n_neighbors` y `contamination`, visualizar los outliers en PCA 2D y comparar con DBSCAN."
      ]
    },
    {
      "cell_type": "markdown",
      "id": "38b46102",
      "metadata": {
        "id": "38b46102"
      },
      "source": [
        "## Objetivos\n",
        "\n",
        "- Cargar y explorar el dataset *Wholesale Customers*.\n",
        "- Preparar las features de gasto y estandarizarlas.\n",
        "- Ajustar LOF, analizar `negative_outlier_factor_` y probar sensibilidad a `n_neighbors` y `contamination`.\n",
        "- Visualizar outliers en PCA 2D y medir coincidencia con ruido DBSCAN.\n",
        "- Perfilar los outliers y proponer acciones prácticas."
      ]
    },
    {
      "cell_type": "code",
      "execution_count": null,
      "id": "e6dba85e",
      "metadata": {
        "id": "e6dba85e"
      },
      "outputs": [],
      "source": [
        "# Librerías y configuración (resuelto)\n",
        "import numpy as np\n",
        "import pandas as pd\n",
        "import matplotlib.pyplot as plt\n",
        "import seaborn as sns\n",
        "sns.set(style='whitegrid')\n",
        "\n",
        "from sklearn.preprocessing import StandardScaler\n",
        "from sklearn.decomposition import PCA\n",
        "from sklearn.neighbors import LocalOutlierFactor, NearestNeighbors\n",
        "from sklearn.cluster import DBSCAN\n",
        "from sklearn.metrics import adjusted_rand_score\n",
        "\n",
        "np.random.seed(42)\n",
        "print('Entorno listo — imports ejecutados')"
      ]
    },
    {
      "cell_type": "markdown",
      "id": "cdd03bf7",
      "metadata": {
        "id": "cdd03bf7"
      },
      "source": [
        "### Carga de datos\n",
        "\n",
        "Carga el CSV desde la URL pública o desde tu copia local. A continuación tienes un ejemplo comentado con la estructura que esperamos. Comprueba siempre `df.head()` y `df.shape`."
      ]
    },
    {
      "cell_type": "code",
      "execution_count": null,
      "id": "f51d0003",
      "metadata": {
        "id": "f51d0003"
      },
      "outputs": [],
      "source": [
        "# TODO: Carga el dataset Wholesale Customers en un DataFrame `df`.\n",
        "# Opciones:\n",
        "# url = 'https://raw.githubusercontent.com/dtoralg/INESDI_Data-Science_ML_IA/refs/heads/main/%5B04%5D%20-%20Modelos%20No%20Supervisados/Wholesale%20customers%20data.csv'\n",
        "# df = pd.read_csv(url)\n",
        "# display(df.head())\n",
        "# print(df.shape)\n",
        "# Asegúrate de que las columnas de gasto existen antes de seguir."
      ]
    },
    {
      "cell_type": "markdown",
      "id": "ce529016",
      "metadata": {
        "id": "ce529016"
      },
      "source": [
        "### Exploración rápida\n",
        "\n",
        "Revisa tipos, nulos y estadísticas. Yo dejo ejemplos resueltos que puedes ejecutar una vez que hayas cargado `df`."
      ]
    },
    {
      "cell_type": "code",
      "execution_count": null,
      "id": "e521f5b9",
      "metadata": {
        "id": "e521f5b9"
      },
      "outputs": [],
      "source": [
        "# Ejecútalo tras cargar `df` (resuelto)\n",
        "try:\n",
        "    display(df.head())\n",
        "    print('\\nInfo:')\n",
        "    print(df.info())\n",
        "    print('\\n% de nulos por columna:')\n",
        "    display((df.isnull().mean()*100).round(2))\n",
        "    print('\\nDescripción numérica:')\n",
        "    display(df.select_dtypes(include=[np.number]).describe().T)\n",
        "except NameError:\n",
        "    print('No he encontrado `df`. Carga el dataset en la celda anterior.')"
      ]
    },
    {
      "cell_type": "markdown",
      "id": "abeec7f7",
      "metadata": {
        "id": "abeec7f7"
      },
      "source": [
        "### Selección de features y limpieza\n",
        "\n",
        "Vamos a usar las columnas de gasto. Ajusta la lista si tu CSV tiene nombres distintos. Decide si imputas o eliminas nulos."
      ]
    },
    {
      "cell_type": "code",
      "execution_count": null,
      "id": "bb95ee7f",
      "metadata": {
        "id": "bb95ee7f"
      },
      "outputs": [],
      "source": [
        "# Resuelto: proponemos las columnas de gasto\n",
        "suggested_features = ['Fresh','Milk','Grocery','Frozen','Detergents_Paper','Delicassen']\n",
        "print('Propuesta de features de gasto:', suggested_features)\n",
        "\n",
        "# TODO: comprueba que las columnas existen en df y crea X = df[features].copy()\n"
      ]
    },
    {
      "cell_type": "markdown",
      "id": "eb794556",
      "metadata": {
        "id": "eb794556"
      },
      "source": [
        "### Escalado (parte resuelta, parte a completar)\n",
        "\n",
        "Estandariza las features porque LOF y DBSCAN dependen de distancias."
      ]
    },
    {
      "cell_type": "code",
      "execution_count": null,
      "id": "b06c9309",
      "metadata": {
        "id": "b06c9309"
      },
      "outputs": [],
      "source": [
        "# Resuelto: creamos el scaler\n",
        "scaler = StandardScaler()\n",
        "\n",
        "# TODO: aplica scaler sobre X y guarda X_scaled como DataFrame con las mismas columnas\n",
        "\n",
        "try:\n",
        "    X  # comprobar existencia\n",
        "except NameError:\n",
        "    print('Define X en la celda de selección de features antes de escalar')"
      ]
    },
    {
      "cell_type": "markdown",
      "id": "a9de6b98",
      "metadata": {
        "id": "a9de6b98"
      },
      "source": [
        "### PCA para visualización (resuelto ejemplo)\n",
        "\n",
        "Proyectaremos a 2D para visualizar outliers. Aquí tienes el patrón; usa `X_scaled` para obtener `X_pca2`."
      ]
    },
    {
      "cell_type": "code",
      "execution_count": null,
      "id": "d4ebc0ff",
      "metadata": {
        "id": "d4ebc0ff"
      },
      "outputs": [],
      "source": [
        "# Resuelto: patrón para PCA (requiere X_scaled)\n",
        "from sklearn.decomposition import PCA\n",
        "try:\n",
        "    pca = PCA(n_components=2)\n",
        "    # TODO: ejecuta: X_pca2 = pca.fit_transform(X_scaled)\n",
        "    print('Ejecuta la transformación PCA una vez tengas X_scaled')\n",
        "except NameError:\n",
        "    print('Define X_scaled antes de ejecutar PCA')"
      ]
    },
    {
      "cell_type": "markdown",
      "id": "69132c2a",
      "metadata": {
        "id": "69132c2a"
      },
      "source": [
        "### Ajuste de LOF — guía\n",
        "\n",
        "Probarás distintos `n_neighbors` y `contamination`. Aquí tienes el flujo: crea el objeto LOF, ejecuta `fit_predict` y guarda etiquetas y score. Te dejo un bloque de ejemplo parcialmente resuelto."
      ]
    },
    {
      "cell_type": "code",
      "execution_count": null,
      "id": "386a4a4b",
      "metadata": {
        "id": "386a4a4b"
      },
      "outputs": [],
      "source": [
        "# Ejemplo parcial: instanciación de LOF\n",
        "def fit_lof_and_report(X_scaled, n_neighbors=20, contamination=0.05):\n",
        "    \"\"\"Función de ayuda: ajusta LOF y devuelve etiquetas y scores. Ejecuta esta función en clase después de crear X_scaled.\"\"\"\n",
        "    lof = LocalOutlierFactor(n_neighbors=n_neighbors, contamination=contamination)\n",
        "    labels = lof.fit_predict(X_scaled)\n",
        "    scores = -lof.negative_outlier_factor_\n",
        "    return labels, scores\n",
        "\n",
        "# TODO: usa la función fit_lof_and_report\n",
        "# Añade a df: df['lof_label'] = labels_lof; df['lof_score'] = scores_lof\n",
        "# Muestra conteos y top outliers por score\n",
        "\n",
        "print('Función de ayuda definida; ajustar LOF con distintos parámetros')"
      ]
    },
    {
      "cell_type": "markdown",
      "id": "a1830040",
      "metadata": {
        "id": "a1830040"
      },
      "source": [
        "### Visualización: outliers en PCA 2D (guía)\n",
        "\n",
        "Visualiza los outliers coloreando los puntos por etiqueta LOF e indicando el score con tamaño de marker. Te dejo el patrón para ejecutar una vez tengas `X_pca2` y `df` actualizado."
      ]
    },
    {
      "cell_type": "code",
      "execution_count": null,
      "id": "2558ecba",
      "metadata": {
        "id": "2558ecba"
      },
      "outputs": [],
      "source": [
        "# TODO: Visualización (ejecuta después de obtener X_pca2 y df con lof labels)\n"
      ]
    },
    {
      "cell_type": "markdown",
      "id": "8388a89d",
      "metadata": {
        "id": "8388a89d"
      },
      "source": [
        "### Sensibilidad a `n_neighbors` y `contamination` (resuelto parcial)\n",
        "\n",
        "Es útil probar varios valores para entender estabilidad.\n"
      ]
    },
    {
      "cell_type": "code",
      "execution_count": null,
      "id": "4e36de6b",
      "metadata": {
        "id": "4e36de6b"
      },
      "outputs": [],
      "source": [
        "# Resuelto: ejemplo de bucle que puedes ejecutar y adaptar\n",
        "neighbors_list = [5,10,20,30]\n",
        "contamination_list = [0.01, 0.03, 0.05, 0.1]\n",
        "\n",
        "print('Ejecutamos combinaciones, aquí tienes un ejemplo de estructura que puedes usar:')\n",
        "print('neighbors_list =', neighbors_list)\n",
        "print('contamination_list =', contamination_list)\n",
        "\n",
        "# TODO: recorre combinaciones y guarda número de outliers detectados en una lista o DataFrame\n",
        "\n",
        "print('\\nPattern listo')"
      ]
    },
    {
      "cell_type": "markdown",
      "id": "e791ece3",
      "metadata": {
        "id": "e791ece3"
      },
      "source": [
        "### Perfilado de outliers y acciones (We do)\n",
        "\n",
        "Perfila las observaciones etiquetadas como outliers: medias por variable, ejemplos concretos y propuestas de acción."
      ]
    },
    {
      "cell_type": "code",
      "execution_count": null,
      "id": "da773d9a",
      "metadata": {
        "id": "da773d9a"
      },
      "outputs": [],
      "source": [
        "# TODO :\n",
        "# - df['lof_label'] y df['lof_score'] deben existir\n",
        "# - Muestra medias por lof_label:\n",
        "# - Escribe 2–3 acciones prácticas basadas en el perfil (limpieza, investigar, campañas especiales)\n",
        "\n",
        "# Resuelto: plantilla para mostrar medias\n",
        "# display(df.groupby('lof_label')[features].mean().round(2))\n",
        "print('Completamos el perfilado con los resultados reales')"
      ]
    },
    {
      "cell_type": "markdown",
      "id": "079b273f",
      "metadata": {
        "id": "079b273f"
      },
      "source": [
        "### Entrega\n",
        "\n",
        "En la última celda, escribe un resumen (3–5 líneas) con los parámetros LOF que probaste, el número de outliers detectados y 2 recomendaciones concretas. Guarda y descarga el notebook."
      ]
    },
    {
      "cell_type": "code",
      "execution_count": null,
      "id": "70fee898",
      "metadata": {
        "id": "70fee898"
      },
      "outputs": [],
      "source": [
        "# Escribe aquí tu resumen (sustituye el texto entre comillas):\n",
        "resumen = '''\n",
        "\n",
        "'''\n",
        "print(resumen)"
      ]
    }
  ],
  "metadata": {
    "colab": {
      "provenance": [],
      "include_colab_link": true
    }
  },
  "nbformat": 4,
  "nbformat_minor": 5
}