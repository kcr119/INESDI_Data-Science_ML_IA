{
  "cells": [
    {
      "cell_type": "markdown",
      "metadata": {
        "id": "view-in-github",
        "colab_type": "text"
      },
      "source": [
        "<a href=\"https://colab.research.google.com/github/dtoralg/INESDI_Data-Science_ML_IA/blob/main/%5B04%5D%20-%20Modelos%20No%20Supervisados/No_supervisados_Ejercicio_8_kmeans_wholesale_customers.ipynb\" target=\"_parent\"><img src=\"https://colab.research.google.com/assets/colab-badge.svg\" alt=\"Open In Colab\"/></a>"
      ]
    },
    {
      "cell_type": "markdown",
      "id": "af91256b",
      "metadata": {
        "id": "af91256b"
      },
      "source": [
        "# No supervisados - Ejercicio 8: kmeans_wholesale_customers.ipynb\n",
        "\n",
        "Este notebook es **We do**: lo hacemos juntos. Algunas celdas están resueltas para guiarte en las partes complejas, pero encontrarás comentarios `# TODO` dentro del código que debes completar durante la sesión. Ejecuta las celdas en orden, experimenta con los parámetros y anota tus decisiones."
      ]
    },
    {
      "cell_type": "markdown",
      "id": "4256787d",
      "metadata": {
        "id": "4256787d"
      },
      "source": [
        "## Objetivos\n",
        "\n",
        "- Cargar y explorar el dataset Wholesale Customers.\n",
        "- Preparar los datos (selección de features y escalado).\n",
        "- Elegir un `k` razonable con Elbow + Silhouette y entrenar KMeans.\n",
        "- Comparar KMeans con DBSCAN y detectar outliers con LOF.\n",
        "- Perfilar clusters y redactar acciones de negocio basadas en los segmentos."
      ]
    },
    {
      "cell_type": "code",
      "execution_count": null,
      "id": "992fad07",
      "metadata": {
        "id": "992fad07"
      },
      "outputs": [],
      "source": [
        "# Librerías y configuración (resuelto)\n",
        "import numpy as np\n",
        "import pandas as pd\n",
        "import matplotlib.pyplot as plt\n",
        "import seaborn as sns\n",
        "sns.set(style='whitegrid')\n",
        "\n",
        "from sklearn.preprocessing import StandardScaler\n",
        "from sklearn.cluster import KMeans, DBSCAN\n",
        "from sklearn.decomposition import PCA\n",
        "from sklearn.neighbors import NearestNeighbors, LocalOutlierFactor\n",
        "from sklearn.metrics import silhouette_score, adjusted_rand_score\n",
        "\n",
        "np.random.seed(42)\n",
        "print('Librerías importadas correctamente')"
      ]
    },
    {
      "cell_type": "markdown",
      "id": "1c536c37",
      "metadata": {
        "id": "1c536c37"
      },
      "source": [
        "### Carga de datos\n",
        "\n",
        "Carga el dataset desde una URL pública o desde tu copia local. Si trabajas en el aula, puedes pre-subir el CSV al entorno."
      ]
    },
    {
      "cell_type": "code",
      "execution_count": null,
      "id": "7c7ebffe",
      "metadata": {
        "id": "7c7ebffe"
      },
      "outputs": [],
      "source": [
        "url = 'https://raw.githubusercontent.com/dtoralg/INESDI_Data-Science_ML_IA/refs/heads/main/%5B04%5D%20-%20Modelos%20No%20Supervisados/Wholesale%20customers%20data.csv'\n",
        "df = pd.read_csv(url)\n",
        "display(df.head())\n",
        "print(df.shape)"
      ]
    },
    {
      "cell_type": "markdown",
      "id": "abde09c5",
      "metadata": {
        "id": "abde09c5"
      },
      "source": [
        "### Exploración inicial\n",
        "\n",
        "Revisa tipos, nulos, estadísticas y correlaciones para entender las variables de gasto."
      ]
    },
    {
      "cell_type": "code",
      "execution_count": null,
      "id": "2b28e8c3",
      "metadata": {
        "id": "2b28e8c3"
      },
      "outputs": [],
      "source": [
        "# TODO:\n",
        "# 1) Muestra df.info() y df.describe().T\n",
        "# 2) Calcula el % de nulos por columna: (df.isnull().mean()*100).round(2)\n",
        "# 3) Dibuja un heatmap de correlación entre las variables de gasto\n",
        "# 4) Opcional: pairplot sobre un subconjunto para ver relaciones bivariadas\n",
        "\n",
        "# Resultado esperado: identificar las columnas numéricas de gasto y si necesitas imputar."
      ]
    },
    {
      "cell_type": "markdown",
      "id": "9897af95",
      "metadata": {
        "id": "9897af95"
      },
      "source": [
        "### Selección de features\n",
        "\n",
        "Identifica las columnas numéricas que representan gasto. En general usaremos las columnas: `Fresh`, `Milk`, `Grocery`, `Frozen`, `Detergents_Paper`, `Delicassen`."
      ]
    },
    {
      "cell_type": "code",
      "execution_count": null,
      "id": "503b5866",
      "metadata": {
        "id": "503b5866"
      },
      "outputs": [],
      "source": [
        "# TODO:\n",
        "# - Define `features` como la lista de columnas de gasto presentes en tu df.\n",
        "# - Crea X = df[features].copy()\n",
        "# - Comprueba X.describe().T\n",
        "\n",
        "# Ejemplo guía:\n",
        "# features = ['Fresh','Milk','Grocery','Frozen','Detergents_Paper','Delicassen']\n",
        "# X = df[features].copy()\n",
        "# display(X.head())"
      ]
    },
    {
      "cell_type": "markdown",
      "id": "431451dd",
      "metadata": {
        "id": "431451dd"
      },
      "source": [
        "### Escalado\n",
        "\n",
        "Escalamos con StandardScaler. En esta celda he creado el scaler; tú debes aplicarlo y guardar `X_scaled` como DataFrame con los mismos nombres de columnas."
      ]
    },
    {
      "cell_type": "code",
      "execution_count": null,
      "id": "0dac169c",
      "metadata": {
        "id": "0dac169c"
      },
      "outputs": [],
      "source": [
        "# Resuelto: creamos el scaler\n",
        "scaler = StandardScaler()\n",
        "\n",
        "# TODO: aplica scaler sobre X y guarda X_scaled como DataFrame con columnas=features\n",
        "# Ejemplo guía:\n",
        "# X_scaled = pd.DataFrame(scaler.fit_transform(X), columns=features)\n",
        "# display(X_scaled.describe().T)\n",
        "\n",
        "# Comprueba que X_scaled tiene la misma cantidad de filas que X"
      ]
    },
    {
      "cell_type": "markdown",
      "id": "f7ac8280",
      "metadata": {
        "id": "f7ac8280"
      },
      "source": [
        "### Determinar k: Elbow + Silhouette\n",
        "\n",
        "Probamos varios k y observamos inertia y silhouette. No buscamos automatizar: interpretamos los gráficos y decidimos juntos."
      ]
    },
    {
      "cell_type": "code",
      "execution_count": null,
      "id": "4931ddac",
      "metadata": {
        "id": "4931ddac"
      },
      "outputs": [],
      "source": [
        "# TODO:\n",
        "# - Recorre k en range(2,11)\n",
        "# - Para cada k entrena KMeans\n",
        "# - Guarda inertia y silhouette_score (silhouette_score requiere al menos 2 clusters)\n",
        "# - Construye un DataFrame con columnas ['k','inertia','silhouette'] y plotea ambos gráficos\n",
        "\n",
        "# Pista: utiliza try/except para silhouette_score por si falla en algún k"
      ]
    },
    {
      "cell_type": "markdown",
      "id": "9ad92f82",
      "metadata": {
        "id": "9ad92f82"
      },
      "source": [
        "### Entrenar KMeans y perfilar clusters\n",
        "\n",
        "Entrena KMeans con el k que decidamos en clase y calcula el perfil medio por cluster para interpretar segmentos."
      ]
    },
    {
      "cell_type": "code",
      "execution_count": null,
      "id": "faeea9c3",
      "metadata": {
        "id": "faeea9c3"
      },
      "outputs": [],
      "source": [
        "# TODO:\n",
        "# - Define k_chosen (elige basado en la celda anterior)\n",
        "# - Entrena kmeans\n",
        "# - Añade df['cluster_km'] = labels_km\n",
        "# - Muestra tamaño de clusters y df.groupby('cluster_km')[features].mean().round(2)\n",
        "\n",
        "# Resuelto (ejemplo de cómo perfilar):\n",
        "# display(df.groupby('cluster_km')[features].mean().round(2))\n",
        "\n",
        "# Nota: completa los pasos para que lo puedas ejecutar en tu entorno"
      ]
    },
    {
      "cell_type": "markdown",
      "id": "b2aaac13",
      "metadata": {
        "id": "b2aaac13"
      },
      "source": [
        "### PCA para visualización\n",
        "\n",
        "Usa PCA para visualizar en 2D. En clase proyectaremos y compararemos visualmente los clusters."
      ]
    },
    {
      "cell_type": "code",
      "execution_count": null,
      "id": "b437733d",
      "metadata": {
        "id": "b437733d"
      },
      "outputs": [],
      "source": [
        "# Resuelto: creamos un PCA y proyectamos (ejecuta tal cual si X_scaled está definido)\n",
        "from sklearn.decomposition import PCA\n",
        "pca = PCA(n_components=2)\n",
        "# TODO: si ya tienes X_scaled (DataFrame o array), usa pca.fit_transform(X_scaled) y guarda en X_pca2\n"
      ]
    },
    {
      "cell_type": "markdown",
      "id": "873a4084",
      "metadata": {
        "id": "873a4084"
      },
      "source": [
        "### Comparación con DBSCAN\n",
        "\n",
        "Hacemos un k-distance plot para estimar eps y probamos DBSCAN con un par de configuraciones. Luego medimos similitud con KMeans."
      ]
    },
    {
      "cell_type": "code",
      "execution_count": null,
      "id": "8383e492",
      "metadata": {
        "id": "8383e492"
      },
      "outputs": [],
      "source": [
        "# TODO:\n",
        "# - Calcula k-distance plot con NearestNeighbors(n_neighbors=5)\n",
        "# - Estima un rango de eps y prueba DBSCAN(eps=..., min_samples=5)\n",
        "# - Guarda labels_db y añade df['cluster_db'] = labels_db\n",
        "# - Muestra np.unique(labels_db) y pd.Series(labels_db).value_counts()\n",
        "# - Si tienes labels_km y labels_db, calcula adjusted_rand_score(labels_km, labels_db)\n",
        "\n",
        "# Resuelto: ejemplo de creación de NearestNeighbors\n",
        "# neigh = NearestNeighbors(n_neighbors=5)\n",
        "# distances, indices = neigh.fit(X_scaled).kneighbors(X_scaled)\n",
        "# distances = np.sort(distances[:, -1])\n",
        "# plt.plot(distances); plt.title('k-distance plot'); plt.show()\n"
      ]
    },
    {
      "cell_type": "markdown",
      "id": "1f91f9e0",
      "metadata": {
        "id": "1f91f9e0"
      },
      "source": [
        "### LOF: detección de outliers\n",
        "\n",
        "Aplicaremos Local Outlier Factor para detectar outliers sobre las mismas features. Observaremos si los outliers coinciden con el ruido detectado por DBSCAN."
      ]
    },
    {
      "cell_type": "code",
      "execution_count": null,
      "id": "ad7b1c0b",
      "metadata": {
        "id": "ad7b1c0b"
      },
      "outputs": [],
      "source": [
        "# TODO:\n",
        "# - Ajusta lof = LocalOutlierFactor(n_neighbors=20, contamination=0.05)\n",
        "# - Obtén lof_labels = lof.fit_predict(X_scaled) y añade df['lof_label'] = lof_labels\n",
        "# - Muestra pd.Series(lof_labels).value_counts() y algunos ejemplos df[df['lof_label']==-1].head()\n",
        "# - Visualiza en PCA 2D coloreando por lof_label\n",
        "\n",
        "# Resuelto: ejemplo de cómo instanciar LOF (no ejecuta fit_predict aquí)\n",
        "# lof = LocalOutlierFactor(n_neighbors=20, contamination=0.05)\n"
      ]
    },
    {
      "cell_type": "markdown",
      "id": "d6abf963",
      "metadata": {
        "id": "d6abf963"
      },
      "source": [
        "### Perfilado y acciones\n",
        "\n",
        "Perfila los clusters y revisa los outliers. A partir de esta información, redacta una recomendación de negocio por cluster y qué hacer con los outliers."
      ]
    },
    {
      "cell_type": "code",
      "execution_count": null,
      "id": "973cc904",
      "metadata": {
        "id": "973cc904"
      },
      "outputs": [],
      "source": [
        "# TODO:\n",
        "# - Muestra medias por cluster (df.groupby('cluster_km')[features].mean())\n",
        "# - Lista ejemplos de outliers (df[df['lof_label']==-1])\n",
        "# - Escribe un breve párrafo con 2 acciones concretas por cluster y 2 acciones para los outliers\n",
        "\n",
        "# Resuelto: template para mostrar medias\n",
        "# display(df.groupby('cluster_km')[features].mean().round(2))"
      ]
    },
    {
      "cell_type": "markdown",
      "id": "a824a940",
      "metadata": {
        "id": "a824a940"
      },
      "source": [
        "### Entrega\n",
        "\n",
        "En la última celda escribe un resumen (4-6 líneas) con: k elegido y por qué, parámetros DBSCAN y LOF probados, principales hallazgos y 2 recomendaciones de negocio. Guarda y descarga el notebook."
      ]
    },
    {
      "cell_type": "code",
      "execution_count": null,
      "id": "f60d8a28",
      "metadata": {
        "id": "f60d8a28"
      },
      "outputs": [],
      "source": [
        "# Escribe tu resumen aquí (sustituye el texto entre las comillas):\n",
        "resumen = '''\n",
        "\n",
        "'''\n",
        "print(resumen)"
      ]
    }
  ],
  "metadata": {
    "colab": {
      "provenance": [],
      "include_colab_link": true
    },
    "language_info": {
      "name": "python"
    },
    "kernelspec": {
      "name": "python3",
      "display_name": "Python 3"
    }
  },
  "nbformat": 4,
  "nbformat_minor": 5
}