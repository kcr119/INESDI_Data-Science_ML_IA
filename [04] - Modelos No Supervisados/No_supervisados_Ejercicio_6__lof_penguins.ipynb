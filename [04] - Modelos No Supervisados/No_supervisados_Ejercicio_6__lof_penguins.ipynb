{
  "cells": [
    {
      "cell_type": "markdown",
      "metadata": {
        "id": "view-in-github",
        "colab_type": "text"
      },
      "source": [
        "<a href=\"https://colab.research.google.com/github/dtoralg/INESDI_Data-Science_ML_IA/blob/main/%5B04%5D%20-%20Modelos%20No%20Supervisados/No_supervisados_Ejercicio_6__lof_penguins.ipynb\" target=\"_parent\"><img src=\"https://colab.research.google.com/assets/colab-badge.svg\" alt=\"Open In Colab\"/></a>"
      ]
    },
    {
      "cell_type": "markdown",
      "id": "1897f572",
      "metadata": {
        "id": "1897f572"
      },
      "source": [
        "# No supervisados - Ejercicio 6: lof_penguins.ipynb\n",
        "\n",
        "Este notebook es **You do**. Trabaja de forma autónoma aplicando **Local Outlier Factor (LOF)** al dataset Palmer Penguins. Cada celda de código contiene instrucciones claras en comentarios `# TODO` que debes implementar. No incluyo soluciones: tu tarea es que el notebook funcione y que justifiques tus decisiones al final."
      ]
    },
    {
      "cell_type": "markdown",
      "id": "d49caf68",
      "metadata": {
        "id": "d49caf68"
      },
      "source": [
        "## Objetivos\n",
        "\n",
        "- Cargar y explorar el dataset `penguins`.\n",
        "- Preparar las variables numéricas y, si decides usar categóricas, codificarlas.\n",
        "- Ajustar LOF para detectar outliers, explorar sensibilidad a `n_neighbors` y `contamination`.\n",
        "- Visualizar outliers en PCA 2D y comparar con ruido detectado por DBSCAN.\n",
        "- Perfilar outliers y escribir recomendaciones prácticas."
      ]
    },
    {
      "cell_type": "code",
      "execution_count": null,
      "id": "5262b43a",
      "metadata": {
        "id": "5262b43a"
      },
      "outputs": [],
      "source": [
        "# Imports — ejecuta esta celda para disponer de las librerías\n",
        "import numpy as np\n",
        "import pandas as pd\n",
        "import matplotlib.pyplot as plt\n",
        "import seaborn as sns\n",
        "sns.set(style='whitegrid')\n",
        "\n",
        "from sklearn.preprocessing import StandardScaler, OneHotEncoder\n",
        "from sklearn.decomposition import PCA\n",
        "from sklearn.neighbors import LocalOutlierFactor, NearestNeighbors\n",
        "from sklearn.cluster import DBSCAN\n",
        "\n",
        "np.random.seed(42)\n",
        "\n",
        "# Si necesitas instalar algo, hazlo antes de ejecutar (pip install seaborn)"
      ]
    },
    {
      "cell_type": "markdown",
      "id": "dd6b72e0",
      "metadata": {
        "id": "dd6b72e0"
      },
      "source": [
        "### Carga de datos\n",
        "\n",
        "Carga el dataset `penguins`. Puedes usar `seaborn.load_dataset('penguins')` o cargar la versión raw desde GitHub. Asegúrate de dejar un DataFrame `df` listo para EDA."
      ]
    },
    {
      "cell_type": "code",
      "execution_count": null,
      "id": "32e9cbc7",
      "metadata": {
        "id": "32e9cbc7"
      },
      "outputs": [],
      "source": [
        "# TODO:\n",
        "# 1) Intenta cargar con seaborn\n",
        "# 2) Comprueba df.head(), df.shape y que las columnas esperadas existen\n",
        "# Resultado esperado: un DataFrame llamado `df`"
      ]
    },
    {
      "cell_type": "markdown",
      "id": "05ff08ce",
      "metadata": {
        "id": "05ff08ce"
      },
      "source": [
        "### Exploración inicial\n",
        "\n",
        "Revisa estructura, nulos y estadísticas para decidir cómo limpiar y qué variables numéricas usar para LOF."
      ]
    },
    {
      "cell_type": "code",
      "execution_count": null,
      "id": "b8636861",
      "metadata": {
        "id": "b8636861"
      },
      "outputs": [],
      "source": [
        "# TODO:\n",
        "# - Muestra df.info(), df.describe().T\n",
        "# - Calcula y muestra % de nulos por columna: (df.isnull().mean()*100).round(2)\n",
        "# - Observa distributiones con sns.histplot o sns.boxplot para cada numérica\n",
        "# Resultado: entender cuántas filas útiles hay y si imputar o eliminar filas"
      ]
    },
    {
      "cell_type": "markdown",
      "id": "cc934c0a",
      "metadata": {
        "id": "cc934c0a"
      },
      "source": [
        "### Selección de variables y limpieza\n",
        "\n",
        "Selecciona las variables numéricas que vas a usar para LOF. Si incluyes categóricas, codifícalas antes de escalar. Mantén un objeto `df_clean` sin nulos en las numéricas seleccionadas."
      ]
    },
    {
      "cell_type": "code",
      "execution_count": null,
      "id": "dd714890",
      "metadata": {
        "id": "dd714890"
      },
      "outputs": [],
      "source": [
        "# TODO:\n",
        "# - Define vars_numericas = df.select_dtypes(include=[np.number]).columns\n",
        "# - Define vars_categoricas = df.select_dtypes(include=['object','category']).columns\n",
        "# - Decide estrategia de nulos (imputación o dropna) y crea df_clean\n",
        "# - Crea X_num = df_clean[vars_numericas] (o concatena con categóricas codificadas si las incluyes)\n",
        "# Resultado: df_clean y X_num listos para escalar"
      ]
    },
    {
      "cell_type": "markdown",
      "id": "0737cea1",
      "metadata": {
        "id": "0737cea1"
      },
      "source": [
        "### Escalado\n",
        "\n",
        "Estandariza las variables antes de ajustar LOF, ya que LOF se basa en distancias."
      ]
    },
    {
      "cell_type": "code",
      "execution_count": null,
      "id": "5670affe",
      "metadata": {
        "id": "5670affe"
      },
      "outputs": [],
      "source": [
        "# TODO:\n",
        "# - Crea scaler = StandardScaler()\n",
        "# - Ajusta y transforma: X_scaled = scaler.fit_transform(X_num)\n",
        "# - Comprueba mean y std por columna (aprox 0 y 1)\n",
        "# Resultado: X_scaled (numpy array)"
      ]
    },
    {
      "cell_type": "markdown",
      "id": "a45d0d41",
      "metadata": {
        "id": "a45d0d41"
      },
      "source": [
        "### PCA para visualización\n",
        "\n",
        "Proyecta a 2 dimensiones para visualizar resultados. Esta proyección servirá solo para interpretación gráfica, el ajuste de LOF se hace sobre X_scaled."
      ]
    },
    {
      "cell_type": "code",
      "execution_count": null,
      "id": "599d214a",
      "metadata": {
        "id": "599d214a"
      },
      "outputs": [],
      "source": [
        "# TODO:\n",
        "# - Ajusta pca2 y X_pca2\n",
        "# - Dibuja scatter plot de X_pca2 (colorea según df_clean['species'] si la tienes)\n",
        "# Resultado: X_pca2 para visualización"
      ]
    },
    {
      "cell_type": "markdown",
      "id": "00f78ada",
      "metadata": {
        "id": "00f78ada"
      },
      "source": [
        "### Ajuste de LOF\n",
        "\n",
        "Ajusta LocalOutlierFactor con diferentes `n_neighbors` y `contamination`. Usa `fit_predict` para obtener etiquetas (1 enlier, -1 outlier) y `negative_outlier_factor_` para scores."
      ]
    },
    {
      "cell_type": "code",
      "execution_count": null,
      "id": "93d14917",
      "metadata": {
        "id": "93d14917"
      },
      "outputs": [],
      "source": [
        "# TODO:\n",
        "# - Elige valores iniciales: n_neighbors=20, contamination=0.05\n",
        "# - Instancia lof\n",
        "# - Obtén labels\n",
        "# - Añade df_clean['lof_label']\n",
        "# - Muestra counts y los top outliers por score\n",
        "# Resultado: etiquetas LOF y scores añadidos a df_clean"
      ]
    },
    {
      "cell_type": "markdown",
      "id": "8c6032a6",
      "metadata": {
        "id": "8c6032a6"
      },
      "source": [
        "### Visualización de outliers en PCA 2D\n",
        "\n",
        "Dibuja los puntos coloreados por etiqueta LOF e indica la severidad con el tamaño del marker (por ejemplo, proporcional al score)."
      ]
    },
    {
      "cell_type": "code",
      "execution_count": null,
      "id": "1157c010",
      "metadata": {
        "id": "1157c010"
      },
      "outputs": [],
      "source": [
        "# TODO:\n",
        "# - Dibuja scatter usando X_pca2; colores según df_clean['lof_label']; tamaños según df_clean['lof_score']\n",
        "# - Observa si los outliers se agrupan o están dispersos\n",
        "# Resultado: gráfica que muestre outliers claramente"
      ]
    },
    {
      "cell_type": "markdown",
      "id": "b9550858",
      "metadata": {
        "id": "b9550858"
      },
      "source": [
        "### Sensibilidad a hiperparámetros\n",
        "\n",
        "Prueba varios valores de `n_neighbors` y `contamination` y registra cuántos outliers detecta cada configuración."
      ]
    },
    {
      "cell_type": "code",
      "execution_count": null,
      "id": "f5d12c63",
      "metadata": {
        "id": "f5d12c63"
      },
      "outputs": [],
      "source": [
        "# TODO:\n",
        "# - Define neighbors_list = [5,10,20,30] y contamination_list = [0.01, 0.03, 0.05, 0.1]\n",
        "# - Recorre combinaciones; para cada (nn, cont) ajusta LOF y cuenta (labels == -1). Guarda resultados en una lista o DataFrame.\n",
        "# - Muestra una tabla/heatmap con número de outliers por combinación\n",
        "# Resultado: entender estabilidad de detección de outliers"
      ]
    },
    {
      "cell_type": "markdown",
      "id": "bea5c57b",
      "metadata": {
        "id": "bea5c57b"
      },
      "source": [
        "### Comparación con DBSCAN\n",
        "\n",
        "Aplica DBSCAN para detectar ruido y mide el solapamiento entre ruido DBSCAN y outliers LOF. Usa un k-distance plot para estimar `eps`."
      ]
    },
    {
      "cell_type": "code",
      "execution_count": null,
      "id": "69b1ba02",
      "metadata": {
        "id": "69b1ba02"
      },
      "outputs": [],
      "source": [
        "# TODO:\n",
        "# - Calcula k-distance plot con NearestNeighbors(n_neighbors=5) y estima eps (por ejemplo percentil 90)\n",
        "# - Ejecuta DBSCAN(eps=eps_est, min_samples=5) y añade df_clean['db_label']\n",
        "# - Calcula fracción de outliers LOF que también son ruido DBSCAN\n",
        "# Resultado: medida de similitud entre detectores"
      ]
    },
    {
      "cell_type": "markdown",
      "id": "fdc07e01",
      "metadata": {
        "id": "fdc07e01"
      },
      "source": [
        "### Perfilado de outliers y acciones\n",
        "\n",
        "Analiza las características de los outliers: medias por variable, ejemplos concretos y propuestas de acción (investigar, excluir, campañas especiales)."
      ]
    },
    {
      "cell_type": "code",
      "execution_count": null,
      "id": "dccc4864",
      "metadata": {
        "id": "dccc4864"
      },
      "outputs": [],
      "source": [
        "# TODO:\n",
        "# - Muestra medias por lof_label: df_clean.groupby('lof_label')[vars_numericas].mean().round(2)\n",
        "# - Lista ejemplos: df_clean[df_clean['lof_label']==-1].head()\n",
        "# - Escribe 2–3 acciones prácticas basadas en el perfil\n",
        "# Resultado: ideas accionables para tratar outliers en producción"
      ]
    },
    {
      "cell_type": "markdown",
      "id": "df58c190",
      "metadata": {
        "id": "df58c190"
      },
      "source": [
        "### Entrega\n",
        "\n",
        "En la última celda escribe un párrafo (4–6 líneas) con: parámetros LOF que probaste, número de outliers detectados con tu configuración preferida, grado de coincidencia con DBSCAN y 2 recomendaciones prácticas. Guarda y descarga el notebook."
      ]
    },
    {
      "cell_type": "code",
      "execution_count": null,
      "id": "af16ed28",
      "metadata": {
        "id": "af16ed28"
      },
      "outputs": [],
      "source": [
        "# Entrega: sustituye el texto entre las triples comillas por tu respuesta\n",
        "entrega = '''\n",
        "\n",
        "'''\n",
        "print(entrega)"
      ]
    }
  ],
  "metadata": {
    "colab": {
      "provenance": [],
      "include_colab_link": true
    }
  },
  "nbformat": 4,
  "nbformat_minor": 5
}