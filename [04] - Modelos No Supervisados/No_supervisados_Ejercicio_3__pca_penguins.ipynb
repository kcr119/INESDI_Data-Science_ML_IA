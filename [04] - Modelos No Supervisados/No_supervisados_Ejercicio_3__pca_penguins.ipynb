{
  "cells": [
    {
      "cell_type": "markdown",
      "metadata": {
        "id": "view-in-github",
        "colab_type": "text"
      },
      "source": [
        "<a href=\"https://colab.research.google.com/github/dtoralg/INESDI_Data-Science_ML_IA/blob/main/%5B04%5D%20-%20Modelos%20No%20Supervisados/No_supervisados_Ejercicio_3__pca_penguins.ipynb\" target=\"_parent\"><img src=\"https://colab.research.google.com/assets/colab-badge.svg\" alt=\"Open In Colab\"/></a>"
      ]
    },
    {
      "cell_type": "markdown",
      "id": "c82e34fc",
      "metadata": {
        "id": "c82e34fc"
      },
      "source": [
        "# No supervisados - Ejercicio 3: pca_penguins.ipynb\n",
        "\n",
        "Este notebook es **You do**. Vas a trabajar de forma autónoma aplicando **PCA** sobre el dataset *Palmer Penguins*. Cada celda de código contiene instrucciones claras en comentarios `# TODO` que debes implementar. No incluyo las soluciones: tu objetivo es que el notebook funcione y que justifiques tus decisiones al final."
      ]
    },
    {
      "cell_type": "markdown",
      "id": "115b9afc",
      "metadata": {
        "id": "115b9afc"
      },
      "source": [
        "## Objetivos\n",
        "\n",
        "- Cargar y explorar el dataset `penguins`.\n",
        "- Limpiar y preparar las variables numéricas (y opcionalmente codificar categóricas).\n",
        "- Calcular PCA, analizar la varianza explicada y escoger un nº de componentes para retención y visualización.\n",
        "- Medir el error de reconstrucción para distintos números de componentes.\n",
        "- Escribir una breve justificación de las decisiones tomadas."
      ]
    },
    {
      "cell_type": "code",
      "execution_count": null,
      "id": "15813fa9",
      "metadata": {
        "id": "15813fa9"
      },
      "outputs": [],
      "source": [
        "# Imports - ejecuta esta celda antes de empezar\n",
        "import numpy as np\n",
        "import pandas as pd\n",
        "import matplotlib.pyplot as plt\n",
        "import seaborn as sns\n",
        "sns.set(style='whitegrid')\n",
        "\n",
        "from sklearn.preprocessing import StandardScaler, OneHotEncoder\n",
        "from sklearn.decomposition import PCA\n",
        "from sklearn.metrics import mean_squared_error\n",
        "\n",
        "np.random.seed(42)\n",
        "\n",
        "# Si te falta alguna librería instala antes de ejecutar (pip install seaborn)"
      ]
    },
    {
      "cell_type": "markdown",
      "id": "fef0f189",
      "metadata": {
        "id": "fef0f189"
      },
      "source": [
        "### Carga de datos\n",
        "\n",
        "Carga el dataset `penguins`. Puedes usar `seaborn.load_dataset('penguins')`. Asegúrate de dejar un DataFrame `df` listo para la exploración."
      ]
    },
    {
      "cell_type": "code",
      "execution_count": null,
      "id": "ee601210",
      "metadata": {
        "id": "ee601210"
      },
      "outputs": [],
      "source": [
        "# TODO:\n",
        "# 1) Intenta cargar con seaborn: df = sns.load_dataset('penguins')\n",
        "# 2) Comprueba df.head(), df.shape y que las columnas esperadas existen\n",
        "# Resultado esperado: un DataFrame llamado `df`"
      ]
    },
    {
      "cell_type": "markdown",
      "id": "c20a9917",
      "metadata": {
        "id": "c20a9917"
      },
      "source": [
        "### Exploración inicial\n",
        "\n",
        "Revisa estructura, nulos y estadísticas para decidir cómo limpiar y qué variables numéricas usar para PCA."
      ]
    },
    {
      "cell_type": "code",
      "execution_count": null,
      "id": "ebd096a3",
      "metadata": {
        "id": "ebd096a3"
      },
      "outputs": [],
      "source": [
        "# TODO:\n",
        "# - Muestra df.info(), df.describe().T\n",
        "# - Calcula y muestra % de nulos por columna\n",
        "# - Visualiza distributiones básicas\n",
        "# Objetivo: identificar cuántas filas útiles tienes y si imputar o eliminar filas"
      ]
    },
    {
      "cell_type": "markdown",
      "id": "fead2241",
      "metadata": {
        "id": "fead2241"
      },
      "source": [
        "### Selección de variables y limpieza\n",
        "\n",
        "Selecciona las variables numéricas que vas a usar. Si vas a incluir categóricas, decide cómo codificarlas antes de escalar."
      ]
    },
    {
      "cell_type": "code",
      "execution_count": null,
      "id": "d58e3107",
      "metadata": {
        "id": "d58e3107"
      },
      "outputs": [],
      "source": [
        "# TODO:\n",
        "# - Define vars_numericas\n",
        "# - Define vars_categoricas\n",
        "# - Decide estrategia para nulos (imputación por media/mediana o dropna en las numéricas)\n",
        "# - Crea df_clean sin nulos en las numéricas que vayas a usar y comprueba df_clean.shape\n",
        "# Resultado: df_clean listo para preprocesado"
      ]
    },
    {
      "cell_type": "markdown",
      "id": "18e49f89",
      "metadata": {
        "id": "18e49f89"
      },
      "source": [
        "### Encoding y escalado\n",
        "\n",
        "Prepara la matriz final de features `X_full` y estandarízala. Mantén el orden de columnas para poder reconstruir y comparar errores."
      ]
    },
    {
      "cell_type": "code",
      "execution_count": null,
      "id": "7bbfe49c",
      "metadata": {
        "id": "7bbfe49c"
      },
      "outputs": [],
      "source": [
        "# TODO:\n",
        "# - Si usas categóricas: aplica OneHotEncoder(drop='first') y concatena con las numéricas\n",
        "# - Crea X_full (numpy array o DataFrame) con todas las features finales\n",
        "# - Aplica scaler\n",
        "# Comprobaciones: X_scaled.mean() ~ 0, X_scaled.std() ~ 1 (por columnas)"
      ]
    },
    {
      "cell_type": "markdown",
      "id": "cc375df2",
      "metadata": {
        "id": "cc375df2"
      },
      "source": [
        "### PCA: varianza explicada\n",
        "\n",
        "Calcula PCA sin limitar el número de componentes y estudia la proporción de varianza explicada por componente y la acumulada."
      ]
    },
    {
      "cell_type": "code",
      "execution_count": null,
      "id": "0221e165",
      "metadata": {
        "id": "0221e165"
      },
      "outputs": [],
      "source": [
        "# TODO:\n",
        "# - Ajusta pca_full = PCA() sobre X_scaled\n",
        "# - Obtén explained_variance_ratio_ y la suma acumulada\n",
        "# - Dibuja scree plot y varianza acumulada para ayudarte a decidir n_components\n",
        "# Resultado: tabla con explained_ratio y cumulative y gráfico"
      ]
    },
    {
      "cell_type": "markdown",
      "id": "8249f5e2",
      "metadata": {
        "id": "8249f5e2"
      },
      "source": [
        "### Visualización en 2D\n",
        "\n",
        "Proyecta los datos en las dos primeras componentes y dibuja un scatter. Si incluiste `species`, colorea por especie para ver separación; si no, colorea por alguna variable de interés."
      ]
    },
    {
      "cell_type": "code",
      "execution_count": null,
      "id": "a2037d75",
      "metadata": {
        "id": "a2037d75"
      },
      "outputs": [],
      "source": [
        "# TODO:\n",
        "# - Ajusta pca2 = PCA(n_components=2) y calcula X_pca2 = pca2.fit_transform(X_scaled)\n",
        "# - Dibuja scatterplot de X_pca2[:,0] vs X_pca2[:,1]\n",
        "# - Colorea por df_clean['species'] si la tienes, o por otra variable\n",
        "# Observación: describe brevemente si ves separación visual entre especies o grupos"
      ]
    },
    {
      "cell_type": "markdown",
      "id": "26b621d6",
      "metadata": {
        "id": "26b621d6"
      },
      "source": [
        "### Reconstrucción y error\n",
        "\n",
        "Mide la pérdida de información reconstruyendo los datos desde diferentes números de componentes y calculando el MSE con respecto a X_scaled."
      ]
    },
    {
      "cell_type": "code",
      "execution_count": null,
      "id": "9aea2e2f",
      "metadata": {
        "id": "9aea2e2f"
      },
      "outputs": [],
      "source": [
        "# TODO:\n",
        "# - Recorre k desde 1 hasta X_scaled.shape[1]\n",
        "# - Para cada k: ajustar PCA(n_components=k), transformar, reconstruir con inverse_transform y calcular mse = mean_squared_error(X_scaled, X_rec)\n",
        "# - Almacena resultados en un DataFrame con columnas ['k','mse'] y dibuja mse vs k\n",
        "# Resultado: entender la relación entre k y pérdida de información"
      ]
    },
    {
      "cell_type": "markdown",
      "id": "9728a2ec",
      "metadata": {
        "id": "9728a2ec"
      },
      "source": [
        "### Decisión práctica\n",
        "\n",
        "Con los resultados del scree plot y del error de reconstrucción, decide cuántas componentes usarías para visualización y cuántas para preprocesado antes de clustering. Justifica tu elección brevemente."
      ]
    },
    {
      "cell_type": "code",
      "execution_count": null,
      "id": "7de98a66",
      "metadata": {
        "id": "7de98a66"
      },
      "outputs": [],
      "source": [
        "# Entrega: escribe tu decisión y justificación (4-6 líneas) en la variable `decision` y ejecútala\n",
        "# Sustituye el texto entre las triples comillas por tu respuesta:\n",
        "\n",
        "decision = '''\n",
        "\n",
        "'''\n",
        "print(decision)"
      ]
    },
    {
      "cell_type": "markdown",
      "id": "dd657c89",
      "metadata": {
        "id": "dd657c89"
      },
      "source": [
        "### Guarda y entrega\n",
        "\n",
        "Ejecuta todas las celdas, guarda el notebook y descárgalo. Asegúrate de que todas las celdas marcadas con `# TODO` están implementadas y funcionan antes de entregar."
      ]
    }
  ],
  "metadata": {
    "colab": {
      "provenance": [],
      "include_colab_link": true
    }
  },
  "nbformat": 4,
  "nbformat_minor": 5
}