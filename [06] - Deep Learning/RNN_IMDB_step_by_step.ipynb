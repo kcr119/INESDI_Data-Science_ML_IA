{
  "cells": [
    {
      "cell_type": "markdown",
      "metadata": {
        "id": "view-in-github",
        "colab_type": "text"
      },
      "source": [
        "<a href=\"https://colab.research.google.com/github/dtoralg/INESDI_Data-Science_ML_IA/blob/main/%5B06%5D%20-%20Deep%20Learning/RNN_IMDB_step_by_step.ipynb\" target=\"_parent\"><img src=\"https://colab.research.google.com/assets/colab-badge.svg\" alt=\"Open In Colab\"/></a>"
      ]
    },
    {
      "cell_type": "markdown",
      "id": "54136e41",
      "metadata": {
        "id": "54136e41"
      },
      "source": [
        "\n",
        "# RNN paso a paso con IMDB (sentiment analysis)\n",
        "**Objetivo:** construir, entrenar y evaluar una red recurrente simple (**RNN**) para clasificar opiniones de películas (positivo/negativo) usando el dataset **IMDB**.  \n",
        "Código *secuencial*, sin funciones auxiliares, con muchos comentarios.\n"
      ]
    },
    {
      "cell_type": "code",
      "execution_count": 1,
      "id": "8e67e01e",
      "metadata": {
        "colab": {
          "base_uri": "https://localhost:8080/"
        },
        "id": "8e67e01e",
        "outputId": "4937d00f-1b1f-425b-aa58-45312bf94db9"
      },
      "outputs": [
        {
          "output_type": "stream",
          "name": "stdout",
          "text": [
            "TensorFlow: 2.19.0\n",
            "GPU disponible: []\n"
          ]
        }
      ],
      "source": [
        "# ==================================\n",
        "# 0. IMPORTS Y CONFIGURACIÓN BÁSICA\n",
        "# ==================================\n",
        "import os\n",
        "import random\n",
        "import numpy as np\n",
        "import matplotlib.pyplot as plt\n",
        "\n",
        "import tensorflow as tf\n",
        "from tensorflow import keras\n",
        "from tensorflow.keras import layers\n",
        "\n",
        "# Semillas \"básicas\" para cierta reproducibilidad\n",
        "random.seed(42)\n",
        "np.random.seed(42)\n",
        "tf.random.set_seed(42)\n",
        "\n",
        "print(\"TensorFlow:\", tf.__version__)\n",
        "print(\"GPU disponible:\", tf.config.list_physical_devices('GPU'))\n"
      ]
    },
    {
      "cell_type": "code",
      "execution_count": 2,
      "id": "fef965a3",
      "metadata": {
        "colab": {
          "base_uri": "https://localhost:8080/"
        },
        "id": "fef965a3",
        "outputId": "70fa5383-684f-4a7f-9080-c6a2291aeea3"
      },
      "outputs": [
        {
          "output_type": "stream",
          "name": "stdout",
          "text": [
            "Downloading data from https://storage.googleapis.com/tensorflow/tf-keras-datasets/imdb.npz\n",
            "\u001b[1m17464789/17464789\u001b[0m \u001b[32m━━━━━━━━━━━━━━━━━━━━\u001b[0m\u001b[37m\u001b[0m \u001b[1m0s\u001b[0m 0us/step\n",
            "Número de reviews - train: 25000  test: 25000\n",
            "Ejemplo de secuencia (primer review): [1, 14, 22, 16, 43, 530, 973, 1622, 1385, 65, 458, 4468, 66, 3941, 4, 173, 36, 256, 5, 25] ...\n",
            "Etiqueta del primer review: 1\n"
          ]
        }
      ],
      "source": [
        "# ==================================\n",
        "# 1. CARGA DEL DATASET (IMDB)\n",
        "# ==================================\n",
        "# IMDB trae reviews de películas codificadas como secuencias de enteros (palabras -> índices).\n",
        "# Cada review tiene etiqueta 0 (negativo) o 1 (positivo).\n",
        "# 'num_words' limita el vocabulario a las N palabras más frecuentes.\n",
        "\n",
        "num_words = 20000    # vocabulario limitado a 20k palabras más comunes\n",
        "maxlen = 200         # longitud máxima de secuencia (recortamos/paddeamos)\n",
        "\n",
        "from tensorflow.keras.datasets import imdb\n",
        "(x_train, y_train), (x_test, y_test) = imdb.load_data(num_words=num_words)\n",
        "\n",
        "print(\"Número de reviews - train:\", len(x_train), \" test:\", len(x_test))\n",
        "print(\"Ejemplo de secuencia (primer review):\", x_train[0][:20], \"...\")\n",
        "print(\"Etiqueta del primer review:\", y_train[0])\n"
      ]
    },
    {
      "cell_type": "code",
      "execution_count": 3,
      "id": "6ab99df4",
      "metadata": {
        "colab": {
          "base_uri": "https://localhost:8080/"
        },
        "id": "6ab99df4",
        "outputId": "c6922fe9-8fdd-4ca6-cfd0-698680a93f83"
      },
      "outputs": [
        {
          "output_type": "stream",
          "name": "stdout",
          "text": [
            "Downloading data from https://storage.googleapis.com/tensorflow/tf-keras-datasets/imdb_word_index.json\n",
            "\u001b[1m1641221/1641221\u001b[0m \u001b[32m━━━━━━━━━━━━━━━━━━━━\u001b[0m\u001b[37m\u001b[0m \u001b[1m0s\u001b[0m 0us/step\n",
            "--- Review 0 (entero -> texto) ---\n",
            "<start> this film was just brilliant casting location scenery story direction everyone's really suited the part they played and you could just imagine being there robert <oov> is an amazing actor and now the same being director <oov> father came from the same scottish island as myself so i loved the fact there was a real connection with this film the witty remarks throughout the film were great it was just brilliant so much that i bought the film as soon as it was released for retail and would recommend it to everyone to watch and the fly fishing was ...\n",
            "Etiqueta: 1\n",
            "\n",
            "--- Review 1 (entero -> texto) ---\n",
            "<start> big hair big boobs bad music and a giant safety pin these are the words to best describe this terrible movie i love cheesy horror movies and i've seen hundreds but this had got to be on of the worst ever made the plot is paper thin and ridiculous the acting is an abomination the script is completely laughable the best is the end showdown with the cop and how he worked out who the killer is it's just so damn terribly written the clothes are sickening and funny in equal measures the hair is big lots of boobs ...\n",
            "Etiqueta: 0\n",
            "\n",
            "--- Review 2 (entero -> texto) ---\n",
            "<start> this has to be one of the worst films of the 1990s when my friends i were watching this film being the target audience it was aimed at we just sat watched the first half an hour with our jaws touching the floor at how bad it really was the rest of the time everyone else in the theatre just started talking to each other leaving or generally crying into their popcorn that they actually paid money they had <oov> working to watch this feeble excuse for a film it must have looked like a great idea on paper ...\n",
            "Etiqueta: 0\n",
            "\n"
          ]
        }
      ],
      "source": [
        "# ===================================================\n",
        "# 2. DECODIFICAR ALGUNAS REVIEWS PARA \"VER\" EL TEXTO\n",
        "# ===================================================\n",
        "# IMDB da secuencias de enteros. Usamos el diccionario para ver palabras.\n",
        "# Nota: índices 1..num_words están mapeados a palabras. Keras reserva:\n",
        "# 0: <pad>, 1: <start>, 2: <oov>, 3: <unused>\n",
        "\n",
        "word_index = imdb.get_word_index()\n",
        "index_to_word = { (v+3): k for k, v in word_index.items() }\n",
        "index_to_word[0] = \"<pad>\"\n",
        "index_to_word[1] = \"<start>\"\n",
        "index_to_word[2] = \"<oov>\"\n",
        "index_to_word[3] = \"<unused>\"\n",
        "\n",
        "# Decodificación de algunas reviews\n",
        "for i in range(3):\n",
        "    words = [index_to_word.get(j, \"<oov>\") for j in x_train[i][:100]]\n",
        "    text = \" \".join(words)\n",
        "    print(f\"--- Review {i} (entero -> texto) ---\")\n",
        "    print(text, \"...\")\n",
        "    print(\"Etiqueta:\", y_train[i])\n",
        "    print()\n"
      ]
    },
    {
      "cell_type": "code",
      "execution_count": 4,
      "id": "e44b7716",
      "metadata": {
        "colab": {
          "base_uri": "https://localhost:8080/"
        },
        "id": "e44b7716",
        "outputId": "42309674-5556-4e9f-ff11-312df6567de2"
      },
      "outputs": [
        {
          "output_type": "stream",
          "name": "stdout",
          "text": [
            "x_train: (20000, 200) | x_val: (5000, 200) | x_test: (25000, 200)\n"
          ]
        }
      ],
      "source": [
        "# ==================================\n",
        "# 3. PADDING/TRUNCADO Y VALIDACIÓN\n",
        "# ==================================\n",
        "# Aseguramos que todas las secuencias tengan la misma longitud 'maxlen'.\n",
        "\n",
        "#PADDING = Rellenar con Ceros\n",
        "#Si un texto es demasiado corto, añadimos ceros (0) al finalTRUNCADO = Cortar\n",
        "#Si un texto es demasiado largo, lo cortamos\n",
        "\n",
        "from tensorflow.keras.preprocessing.sequence import pad_sequences\n",
        "\n",
        "x_train = pad_sequences(x_train, maxlen=maxlen, padding='pre', truncating='pre')\n",
        "x_test  = pad_sequences(x_test,  maxlen=maxlen, padding='pre', truncating='pre')\n",
        "\n",
        "# Conjunto de validación\n",
        "val_size = 5000\n",
        "x_val = x_train[-val_size:]\n",
        "y_val = y_train[-val_size:]\n",
        "x_train = x_train[:-val_size]\n",
        "y_train = y_train[:-val_size]\n",
        "\n",
        "print(\"x_train:\", x_train.shape, \"| x_val:\", x_val.shape, \"| x_test:\", x_test.shape)\n"
      ]
    },
    {
      "cell_type": "code",
      "source": [
        "#Texto 1: \"Me gusta\"           → [5, 8]\n",
        "#Texto 2: \"Es genial\"          → [3, 9]\n",
        "#Texto 3: \"Muy bueno calidad\"  → [12, 15, 20]\n",
        "#Problema: Diferentes longitudes (2, 2, 3 números)\n",
        "#Se decide una Longitud Máxima = 5\n"
      ],
      "metadata": {
        "id": "ARN66pw3dRoY"
      },
      "id": "ARN66pw3dRoY",
      "execution_count": null,
      "outputs": []
    },
    {
      "cell_type": "code",
      "execution_count": 5,
      "id": "fbdb0a35",
      "metadata": {
        "colab": {
          "base_uri": "https://localhost:8080/",
          "height": 273
        },
        "id": "fbdb0a35",
        "outputId": "d0d51051-f474-4a07-a480-cd08d35ab74c"
      },
      "outputs": [
        {
          "output_type": "stream",
          "name": "stderr",
          "text": [
            "/usr/local/lib/python3.12/dist-packages/keras/src/layers/core/embedding.py:97: UserWarning: Argument `input_length` is deprecated. Just remove it.\n",
            "  warnings.warn(\n"
          ]
        },
        {
          "output_type": "display_data",
          "data": {
            "text/plain": [
              "\u001b[1mModel: \"sequential\"\u001b[0m\n"
            ],
            "text/html": [
              "<pre style=\"white-space:pre;overflow-x:auto;line-height:normal;font-family:Menlo,'DejaVu Sans Mono',consolas,'Courier New',monospace\"><span style=\"font-weight: bold\">Model: \"sequential\"</span>\n",
              "</pre>\n"
            ]
          },
          "metadata": {}
        },
        {
          "output_type": "display_data",
          "data": {
            "text/plain": [
              "┏━━━━━━━━━━━━━━━━━━━━━━━━━━━━━━━━━┳━━━━━━━━━━━━━━━━━━━━━━━━┳━━━━━━━━━━━━━━━┓\n",
              "┃\u001b[1m \u001b[0m\u001b[1mLayer (type)                   \u001b[0m\u001b[1m \u001b[0m┃\u001b[1m \u001b[0m\u001b[1mOutput Shape          \u001b[0m\u001b[1m \u001b[0m┃\u001b[1m \u001b[0m\u001b[1m      Param #\u001b[0m\u001b[1m \u001b[0m┃\n",
              "┡━━━━━━━━━━━━━━━━━━━━━━━━━━━━━━━━━╇━━━━━━━━━━━━━━━━━━━━━━━━╇━━━━━━━━━━━━━━━┩\n",
              "│ embedding (\u001b[38;5;33mEmbedding\u001b[0m)           │ ?                      │   \u001b[38;5;34m0\u001b[0m (unbuilt) │\n",
              "├─────────────────────────────────┼────────────────────────┼───────────────┤\n",
              "│ simple_rnn (\u001b[38;5;33mSimpleRNN\u001b[0m)          │ ?                      │   \u001b[38;5;34m0\u001b[0m (unbuilt) │\n",
              "├─────────────────────────────────┼────────────────────────┼───────────────┤\n",
              "│ dense (\u001b[38;5;33mDense\u001b[0m)                   │ ?                      │   \u001b[38;5;34m0\u001b[0m (unbuilt) │\n",
              "└─────────────────────────────────┴────────────────────────┴───────────────┘\n"
            ],
            "text/html": [
              "<pre style=\"white-space:pre;overflow-x:auto;line-height:normal;font-family:Menlo,'DejaVu Sans Mono',consolas,'Courier New',monospace\">┏━━━━━━━━━━━━━━━━━━━━━━━━━━━━━━━━━┳━━━━━━━━━━━━━━━━━━━━━━━━┳━━━━━━━━━━━━━━━┓\n",
              "┃<span style=\"font-weight: bold\"> Layer (type)                    </span>┃<span style=\"font-weight: bold\"> Output Shape           </span>┃<span style=\"font-weight: bold\">       Param # </span>┃\n",
              "┡━━━━━━━━━━━━━━━━━━━━━━━━━━━━━━━━━╇━━━━━━━━━━━━━━━━━━━━━━━━╇━━━━━━━━━━━━━━━┩\n",
              "│ embedding (<span style=\"color: #0087ff; text-decoration-color: #0087ff\">Embedding</span>)           │ ?                      │   <span style=\"color: #00af00; text-decoration-color: #00af00\">0</span> (unbuilt) │\n",
              "├─────────────────────────────────┼────────────────────────┼───────────────┤\n",
              "│ simple_rnn (<span style=\"color: #0087ff; text-decoration-color: #0087ff\">SimpleRNN</span>)          │ ?                      │   <span style=\"color: #00af00; text-decoration-color: #00af00\">0</span> (unbuilt) │\n",
              "├─────────────────────────────────┼────────────────────────┼───────────────┤\n",
              "│ dense (<span style=\"color: #0087ff; text-decoration-color: #0087ff\">Dense</span>)                   │ ?                      │   <span style=\"color: #00af00; text-decoration-color: #00af00\">0</span> (unbuilt) │\n",
              "└─────────────────────────────────┴────────────────────────┴───────────────┘\n",
              "</pre>\n"
            ]
          },
          "metadata": {}
        },
        {
          "output_type": "display_data",
          "data": {
            "text/plain": [
              "\u001b[1m Total params: \u001b[0m\u001b[38;5;34m0\u001b[0m (0.00 B)\n"
            ],
            "text/html": [
              "<pre style=\"white-space:pre;overflow-x:auto;line-height:normal;font-family:Menlo,'DejaVu Sans Mono',consolas,'Courier New',monospace\"><span style=\"font-weight: bold\"> Total params: </span><span style=\"color: #00af00; text-decoration-color: #00af00\">0</span> (0.00 B)\n",
              "</pre>\n"
            ]
          },
          "metadata": {}
        },
        {
          "output_type": "display_data",
          "data": {
            "text/plain": [
              "\u001b[1m Trainable params: \u001b[0m\u001b[38;5;34m0\u001b[0m (0.00 B)\n"
            ],
            "text/html": [
              "<pre style=\"white-space:pre;overflow-x:auto;line-height:normal;font-family:Menlo,'DejaVu Sans Mono',consolas,'Courier New',monospace\"><span style=\"font-weight: bold\"> Trainable params: </span><span style=\"color: #00af00; text-decoration-color: #00af00\">0</span> (0.00 B)\n",
              "</pre>\n"
            ]
          },
          "metadata": {}
        },
        {
          "output_type": "display_data",
          "data": {
            "text/plain": [
              "\u001b[1m Non-trainable params: \u001b[0m\u001b[38;5;34m0\u001b[0m (0.00 B)\n"
            ],
            "text/html": [
              "<pre style=\"white-space:pre;overflow-x:auto;line-height:normal;font-family:Menlo,'DejaVu Sans Mono',consolas,'Courier New',monospace\"><span style=\"font-weight: bold\"> Non-trainable params: </span><span style=\"color: #00af00; text-decoration-color: #00af00\">0</span> (0.00 B)\n",
              "</pre>\n"
            ]
          },
          "metadata": {}
        }
      ],
      "source": [
        "# ==================================\n",
        "# 4. MODELO RNN SENCILLO (BASELINE)\n",
        "# TEXTO → [EMBEDDING] → [RNN] → [DENSE] → PREDICCIÓN (0 o 1)\n",
        "# ==================================\n",
        "\n",
        "embedding_dim = 64 # Cada palabra se representa con 64 números\n",
        "\n",
        "model = keras.Sequential()\n",
        "\n",
        "model.add(layers.Embedding(input_dim=num_words,       # 20,000 palabras en el vocabulario\n",
        "                           output_dim=embedding_dim,  # Cada palabra → 64 números\n",
        "                           input_length=maxlen))      # Entrada: 200 números (palabras)\n",
        "\n",
        "model.add(layers.SimpleRNN(64)) #Capa SimpleRNN\n",
        "\n",
        "model.add(layers.Dense(1, activation=\"sigmoid\")) # Capa de salida sigmoid 1 o 0\n",
        "\n",
        "model.summary()\n"
      ]
    },
    {
      "cell_type": "code",
      "source": [
        "#ANTES del Embedding:\n",
        "#Input: [523, 12, 8901, 45, ...]  # 200 palabras (números simples)\n",
        "\n",
        "#DESPUÉS del Embedding:\n",
        "#Palabra 523  → [0.2, -0.5, 0.8, ..., 0.3]  # Vector de 64 números\n",
        "#Palabra 12   → [0.7, 0.1, -0.3, ..., 0.9]  # Vector de 64 números\n",
        "#Palabra 8901 → [-0.4, 0.6, 0.2, ..., -0.1] # Vector de 64 números\n",
        "\n",
        "#Resultado: Una matriz de tamaño (200, 64)\n"
      ],
      "metadata": {
        "id": "OJ8q3Mjxemuk"
      },
      "id": "OJ8q3Mjxemuk",
      "execution_count": null,
      "outputs": []
    },
    {
      "cell_type": "code",
      "execution_count": 6,
      "id": "2a530c88",
      "metadata": {
        "id": "2a530c88"
      },
      "outputs": [],
      "source": [
        "\n",
        "# ========================\n",
        "# 5. COMPILAR EL MODELO\n",
        "# ========================\n",
        "\n",
        "model.compile(\n",
        "    optimizer=\"adam\",\n",
        "    loss=\"binary_crossentropy\",\n",
        "    metrics=[\"accuracy\"]\n",
        ")\n"
      ]
    },
    {
      "cell_type": "code",
      "execution_count": 7,
      "id": "48338cfe",
      "metadata": {
        "colab": {
          "base_uri": "https://localhost:8080/"
        },
        "id": "48338cfe",
        "outputId": "4edb9d06-65c1-4789-ea6e-ff281abcc5a4"
      },
      "outputs": [
        {
          "output_type": "stream",
          "name": "stdout",
          "text": [
            "Epoch 1/5\n",
            "\u001b[1m313/313\u001b[0m \u001b[32m━━━━━━━━━━━━━━━━━━━━\u001b[0m\u001b[37m\u001b[0m \u001b[1m27s\u001b[0m 80ms/step - accuracy: 0.5797 - loss: 0.6546 - val_accuracy: 0.7532 - val_loss: 0.5357\n",
            "Epoch 2/5\n",
            "\u001b[1m313/313\u001b[0m \u001b[32m━━━━━━━━━━━━━━━━━━━━\u001b[0m\u001b[37m\u001b[0m \u001b[1m23s\u001b[0m 75ms/step - accuracy: 0.8353 - loss: 0.3757 - val_accuracy: 0.8274 - val_loss: 0.4050\n",
            "Epoch 3/5\n",
            "\u001b[1m313/313\u001b[0m \u001b[32m━━━━━━━━━━━━━━━━━━━━\u001b[0m\u001b[37m\u001b[0m \u001b[1m24s\u001b[0m 77ms/step - accuracy: 0.9118 - loss: 0.2248 - val_accuracy: 0.8160 - val_loss: 0.4844\n",
            "Epoch 4/5\n",
            "\u001b[1m313/313\u001b[0m \u001b[32m━━━━━━━━━━━━━━━━━━━━\u001b[0m\u001b[37m\u001b[0m \u001b[1m24s\u001b[0m 77ms/step - accuracy: 0.9589 - loss: 0.1131 - val_accuracy: 0.6316 - val_loss: 0.8514\n",
            "Epoch 5/5\n",
            "\u001b[1m313/313\u001b[0m \u001b[32m━━━━━━━━━━━━━━━━━━━━\u001b[0m\u001b[37m\u001b[0m \u001b[1m24s\u001b[0m 77ms/step - accuracy: 0.9458 - loss: 0.1445 - val_accuracy: 0.8016 - val_loss: 0.6805\n"
          ]
        }
      ],
      "source": [
        "\n",
        "# ========================\n",
        "# 6. ENTRENAMIENTO\n",
        "# ========================\n",
        "epochs = 5\n",
        "batch_size = 64\n",
        "\n",
        "history = model.fit(\n",
        "    x_train, y_train,\n",
        "    validation_data=(x_val, y_val),\n",
        "    epochs=epochs,\n",
        "    batch_size=batch_size,\n",
        "    verbose=1\n",
        ")\n"
      ]
    },
    {
      "cell_type": "code",
      "execution_count": 8,
      "id": "19fa6181",
      "metadata": {
        "colab": {
          "base_uri": "https://localhost:8080/",
          "height": 809
        },
        "id": "19fa6181",
        "outputId": "79a2e0a1-b410-4894-ac03-edeef139f233"
      },
      "outputs": [
        {
          "output_type": "display_data",
          "data": {
            "text/plain": [
              "<Figure size 600x400 with 1 Axes>"
            ],
            "image/png": "[encoded data removed]"
          },
          "metadata": {}
        },
        {
          "output_type": "display_data",
          "data": {
            "text/plain": [
              "<Figure size 600x400 with 1 Axes>"
            ],
            "image/png": "[encoded data removed]"
          },
          "metadata": {}
        }
      ],
      "source": [
        "\n",
        "# ===================================\n",
        "# 7. CURVAS DE ENTRENAMIENTO/VALIDACIÓN\n",
        "# ===================================\n",
        "\n",
        "# Accuracy\n",
        "plt.figure(figsize=(6,4))\n",
        "plt.plot(history.history[\"accuracy\"], label=\"train_acc\")\n",
        "plt.plot(history.history[\"val_accuracy\"], label=\"val_acc\")\n",
        "plt.title(\"Accuracy por época\")\n",
        "plt.xlabel(\"Época\")\n",
        "plt.ylabel(\"Accuracy\")\n",
        "plt.legend()\n",
        "plt.grid(True)\n",
        "plt.show()\n",
        "\n",
        "# Pérdida\n",
        "plt.figure(figsize=(6,4))\n",
        "plt.plot(history.history[\"loss\"], label=\"train_loss\")\n",
        "plt.plot(history.history[\"val_loss\"], label=\"val_loss\")\n",
        "plt.title(\"Pérdida por época\")\n",
        "plt.xlabel(\"Época\")\n",
        "plt.ylabel(\"Loss\")\n",
        "plt.legend()\n",
        "plt.grid(True)\n",
        "plt.show()\n"
      ]
    },
    {
      "cell_type": "code",
      "execution_count": 9,
      "id": "89d4a89e",
      "metadata": {
        "colab": {
          "base_uri": "https://localhost:8080/"
        },
        "id": "89d4a89e",
        "outputId": "ef3233e7-6e90-453f-b3bd-5ff914120b41"
      },
      "outputs": [
        {
          "output_type": "stream",
          "name": "stdout",
          "text": [
            "Loss en test: 0.6935\n",
            "Accuracy en test: 0.7991\n"
          ]
        }
      ],
      "source": [
        "\n",
        "# ========================\n",
        "# 8. EVALUACIÓN EN TEST\n",
        "# ========================\n",
        "test_loss, test_acc = model.evaluate(x_test, y_test, verbose=0)\n",
        "print(f\"Loss en test: {test_loss:.4f}\")\n",
        "print(f\"Accuracy en test: {test_acc:.4f}\")\n"
      ]
    },
    {
      "cell_type": "code",
      "execution_count": 10,
      "id": "d81d9996",
      "metadata": {
        "colab": {
          "base_uri": "https://localhost:8080/"
        },
        "id": "d81d9996",
        "outputId": "de38922f-e841-489a-dce0-8a7d6e6a687d"
      },
      "outputs": [
        {
          "output_type": "stream",
          "name": "stdout",
          "text": [
            "============================================================\n",
            "Texto (recortado a maxlen):\n",
            "<start> please give this one a miss br br kristy swanson and the rest of the cast rendered terrible performances the show is flat flat flat br br i don't know how michael madison could have allowed this one on his plate he almost seemed to know this wasn't going to work out and his performance was quite lacklustre so all you madison fans give this a miss ...\n",
            "Prob. positivo: 0.000 | Pred: 0 | Real: 0\n",
            "============================================================\n",
            "Texto (recortado a maxlen):\n",
            "psychological trickery it's very interesting that robert altman directed this considering the style and structure of his other films still the trademark altman audio style is evident here and there i think what really makes this film work is the brilliant performance by sandy dennis it's definitely one of her darker characters but she plays it so perfectly and convincingly that it's scary michael  ...\n",
            "Prob. positivo: 0.963 | Pred: 1 | Real: 1\n",
            "============================================================\n",
            "Texto (recortado a maxlen):\n",
            "everyone's horror the <oov> promptly eats the mayor and then goes on a merry rampage <oov> citizens at random a title card <oov> reads news of the king's appetite throughout the kingdom when the now terrified frogs once more <oov> <oov> for help he loses his temper and showers their community with lightning bolts the moral of our story delivered by a hapless frog just before he is eaten is let wel ...\n",
            "Prob. positivo: 0.637 | Pred: 1 | Real: 1\n",
            "============================================================\n",
            "Texto (recortado a maxlen):\n",
            "<start> i generally love this type of movie however this time i found myself wanting to kick the screen since i can't do that i will just complain about it this was absolutely idiotic the things that happen with the dead kids are very cool but the alive people are absolute idiots i am a grown man pretty big and i can defend myself well however i would not do half the stuff the little girl does in  ...\n",
            "Prob. positivo: 0.999 | Pred: 1 | Real: 0\n",
            "============================================================\n",
            "Texto (recortado a maxlen):\n",
            "<start> like some other people wrote i'm a die hard mario fan and i loved this game br br this game starts slightly boring but trust me it's worth it as soon as you start your hooked the levels are fun and exiting they will hook you <oov> your mind turns to mush i'm not kidding this game is also orchestrated and is beautifully done br br to keep this spoiler free i have to keep my mouth shut about ...\n",
            "Prob. positivo: 0.979 | Pred: 1 | Real: 1\n"
          ]
        }
      ],
      "source": [
        "\n",
        "# ======================================\n",
        "# 9. PREDICCIONES Y MUESTRA DE RESULTADOS\n",
        "# ======================================\n",
        "num_examples = 5\n",
        "sample_x = x_test[:num_examples]\n",
        "sample_y = y_test[:num_examples]\n",
        "\n",
        "probs = model.predict(sample_x, verbose=0).reshape(-1)\n",
        "pred_labels = (probs >= 0.5).astype(int)\n",
        "\n",
        "for i in range(num_examples):\n",
        "    # reconstruimos texto ignorando los <pad>=0\n",
        "    nonzero = sample_x[i][sample_x[i] != 0]\n",
        "    words = [index_to_word.get(idx, \"<oov>\") for idx in nonzero]\n",
        "    text = \" \".join(words)\n",
        "    print(\"=\"*60)\n",
        "    print(\"Texto (recortado a maxlen):\")\n",
        "    print(text[:400], \"...\")\n",
        "    print(f\"Prob. positivo: {probs[i]:.3f} | Pred: {pred_labels[i]} | Real: {sample_y[i]}\")\n"
      ]
    },
    {
      "cell_type": "markdown",
      "id": "ec79b7ed",
      "metadata": {
        "id": "ec79b7ed"
      },
      "source": [
        "\n",
        "## Ideas para seguir mejorando (opcionales)\n",
        "**Tres bloques** con variantes del modelo base para comparar resultados:\n",
        "1) Sustituir `SimpleRNN` por **LSTM**.  \n",
        "2) **Bidirectional LSTM** con `Dropout`.  \n",
        "3) **ReduceLROnPlateau + EarlyStopping** para ajustar el aprendizaje automáticamente.\n"
      ]
    },
    {
      "cell_type": "code",
      "execution_count": 11,
      "id": "ea19d96d",
      "metadata": {
        "colab": {
          "base_uri": "https://localhost:8080/"
        },
        "id": "ea19d96d",
        "outputId": "59872342-a288-4f76-cfd8-79cb03d17798"
      },
      "outputs": [
        {
          "output_type": "stream",
          "name": "stdout",
          "text": [
            "Epoch 1/5\n",
            "\u001b[1m313/313\u001b[0m \u001b[32m━━━━━━━━━━━━━━━━━━━━\u001b[0m\u001b[37m\u001b[0m \u001b[1m53s\u001b[0m 163ms/step - accuracy: 0.7092 - loss: 0.5264 - val_accuracy: 0.8738 - val_loss: 0.3096\n",
            "Epoch 2/5\n",
            "\u001b[1m313/313\u001b[0m \u001b[32m━━━━━━━━━━━━━━━━━━━━\u001b[0m\u001b[37m\u001b[0m \u001b[1m80s\u001b[0m 155ms/step - accuracy: 0.8998 - loss: 0.2492 - val_accuracy: 0.8744 - val_loss: 0.3271\n",
            "Epoch 3/5\n",
            "\u001b[1m313/313\u001b[0m \u001b[32m━━━━━━━━━━━━━━━━━━━━\u001b[0m\u001b[37m\u001b[0m \u001b[1m80s\u001b[0m 148ms/step - accuracy: 0.9310 - loss: 0.1832 - val_accuracy: 0.8714 - val_loss: 0.3507\n",
            "Epoch 4/5\n",
            "\u001b[1m313/313\u001b[0m \u001b[32m━━━━━━━━━━━━━━━━━━━━\u001b[0m\u001b[37m\u001b[0m \u001b[1m47s\u001b[0m 152ms/step - accuracy: 0.9434 - loss: 0.1606 - val_accuracy: 0.8554 - val_loss: 0.4143\n",
            "Epoch 5/5\n",
            "\u001b[1m313/313\u001b[0m \u001b[32m━━━━━━━━━━━━━━━━━━━━\u001b[0m\u001b[37m\u001b[0m \u001b[1m48s\u001b[0m 154ms/step - accuracy: 0.9549 - loss: 0.1328 - val_accuracy: 0.8634 - val_loss: 0.4130\n",
            "[LSTM] Loss test: 0.4436 | Acc test: 0.8547\n"
          ]
        }
      ],
      "source": [
        "\n",
        "# =====================================================\n",
        "# (1) SUSTITUIR SimpleRNN POR LSTM (más potente)\n",
        "# =====================================================\n",
        "embedding_dim = 64\n",
        "\n",
        "model_lstm = keras.Sequential()\n",
        "\n",
        "model_lstm.add(layers.Embedding(input_dim=num_words,\n",
        "                                output_dim=embedding_dim,\n",
        "                                input_length=maxlen))\n",
        "\n",
        "model_lstm.add(layers.LSTM(64)) #aqui cambiamos a ver si mejora el modelo\n",
        "model_lstm.add(layers.Dense(1, activation=\"sigmoid\"))\n",
        "\n",
        "model_lstm.compile(optimizer=\"adam\", loss=\"binary_crossentropy\", metrics=[\"accuracy\"])\n",
        "\n",
        "history_lstm = model_lstm.fit(\n",
        "    x_train, y_train,\n",
        "    validation_data=(x_val, y_val),\n",
        "    epochs=5,\n",
        "    batch_size=64,\n",
        "    verbose=1\n",
        ")\n",
        "\n",
        "test_loss, test_acc = model_lstm.evaluate(x_test, y_test, verbose=0)\n",
        "print(f\"[LSTM] Loss test: {test_loss:.4f} | Acc test: {test_acc:.4f}\")\n"
      ]
    }
  ],
  "metadata": {
    "colab": {
      "provenance": [],
      "include_colab_link": true
    },
    "language_info": {
      "name": "python"
    },
    "kernelspec": {
      "name": "python3",
      "display_name": "Python 3"
    }
  },
  "nbformat": 4,
  "nbformat_minor": 5
}